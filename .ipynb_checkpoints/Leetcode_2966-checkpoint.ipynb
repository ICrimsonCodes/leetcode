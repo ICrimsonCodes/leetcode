{
 "cells": [
  {
   "cell_type": "markdown",
   "id": "a16c2ce2-2190-4729-812f-078ea495a89b",
   "metadata": {},
   "source": [
    "# Problem No: 2966\n",
    "#### Devide Array Into Arrays With Maximum Diffrnce"
   ]
  },
  {
   "cell_type": "markdown",
   "id": "8d3ee9c2-bd5f-4c2c-b14b-804fa9ec2190",
   "metadata": {},
   "source": [
    "You are given an integer array nums of size n and a positive integer k. \r\n",
    "Divide the array into one or more arrays of size 3 satisfying the following condition \n",
    "1. Each element of nums should be in exactly one array\n",
    "2. The diffrence between any two elements in one array is less than or equal to kto k."
   ]
  },
  {
   "cell_type": "markdown",
   "id": "9291ff5a-3a21-46bb-99e2-db57cc449d17",
   "metadata": {},
   "source": [
    "## Approach\n",
    "1. Sort: Arrange elements in ascending order to efficiently group elements with small differences\n",
    "2. Iterate in Steps of 3: Examine consecutive triplets of elements\n",
    "3. Check Viability: For each triplet, subtract the minimum from the maximum. If the difference exceeds k, division is impossible, and we return an empty result\n",
    "4. Construct Groups: If viable, append the triplet to the result array\n",
    "5. Return Result: Provide the constructed 2D array, or an empty array if division was not possibleble."
   ]
  },
  {
   "cell_type": "markdown",
   "id": "5ac2fd35-e4a4-47e0-ae0e-ab76b2612918",
   "metadata": {},
   "source": [
    "## Complexity\n",
    "- Time Complexity: O(n log n) due to sorting.\r",
    "- \n",
    "Space complexity: O(n) for storing the sorted array and the result."
   ]
  },
  {
   "cell_type": "markdown",
   "id": "e2157a3c-1b0c-43fe-96bb-687b253014d5",
   "metadata": {},
   "source": [
    "## CODE"
   ]
  },
  {
   "cell_type": "code",
   "execution_count": null,
   "id": "72847670-5e31-4d66-a53c-e9bb014b9960",
   "metadata": {},
   "outputs": [],
   "source": [
    "class Solution:\n",
    "    def divideArray(self, nums: List[int], k: int) -> List[List[int]]:\n",
    "        final_array = []\n",
    "        nums.sort()\n",
    "\n",
    "        for i in range(0, len(nums), 3):\n",
    "            a, b, c = nums[i:i+3]\n",
    "\n",
    "            if c - a <= k:\n",
    "                final_array.append([a, b, c])\n",
    "            else:\n",
    "                final_array.clear()\n",
    "                return final_array\n",
    "        return final_array\n",
    "                "
   ]
  }
 ],
 "metadata": {
  "kernelspec": {
   "display_name": "Python 3 (ipykernel)",
   "language": "python",
   "name": "python3"
  },
  "language_info": {
   "codemirror_mode": {
    "name": "ipython",
    "version": 3
   },
   "file_extension": ".py",
   "mimetype": "text/x-python",
   "name": "python",
   "nbconvert_exporter": "python",
   "pygments_lexer": "ipython3",
   "version": "3.11.5"
  }
 },
 "nbformat": 4,
 "nbformat_minor": 5
}
