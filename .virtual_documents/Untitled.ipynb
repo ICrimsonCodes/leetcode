














class Solution:
    def divideArray(self, nums: List[int], k: int) -> List[List[int]]:
        final_array = []
        nums.sort()

        for i in range(0, len(nums), 3):
            a, b, c = nums[i:i+3]

            if c - a <= k:
                final_array.append([a, b, c])
            else:
                final_array.clear()
                return final_array
        return final_array
                
